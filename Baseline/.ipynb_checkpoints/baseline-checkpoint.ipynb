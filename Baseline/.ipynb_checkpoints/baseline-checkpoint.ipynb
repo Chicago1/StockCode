{
 "cells": [
  {
   "cell_type": "code",
   "execution_count": 1,
   "metadata": {},
   "outputs": [
    {
     "name": "stderr",
     "output_type": "stream",
     "text": [
      "Using TensorFlow backend.\n"
     ]
    }
   ],
   "source": [
    "import os\n",
    "import pandas as pd\n",
    "import tqdm\n",
    "from tqdm import tqdm_notebook\n",
    "import numpy as np\n",
    "from matplotlib import pyplot as plt\n",
    "from sklearn.preprocessing import MinMaxScaler\n",
    "from sklearn.model_selection import train_test_split\n",
    "from keras.models import Sequential,load_model\n",
    "from keras.layers import LSTM, Dense\n",
    "from keras.layers import Dropout, Activation, Flatten\n",
    "from keras.optimizers import SGD"
   ]
  },
  {
   "cell_type": "code",
   "execution_count": 2,
   "metadata": {},
   "outputs": [
    {
     "name": "stdout",
     "output_type": "stream",
     "text": [
      "              Open    High     Low   Close   Volume  OpenInt\n",
      "Date                                                        \n",
      "1962-01-02  0.6277  0.6362  0.6201  0.6201  2575579        0\n",
      "1962-01-03  0.6201  0.6201  0.6122  0.6201  1764749        0\n",
      "1962-01-04  0.6201  0.6201  0.6037  0.6122  2194010        0\n",
      "1962-01-05  0.6122  0.6122  0.5798  0.5957  3255244        0\n",
      "1962-01-08  0.5957  0.5957  0.5716  0.5957  3696430        0\n"
     ]
    }
   ],
   "source": [
    "df_ge = pd.read_csv( \"us.ge.txt\", index_col=0)\n",
    "print(df_ge.head())\n"
   ]
  },
  {
   "cell_type": "code",
   "execution_count": 3,
   "metadata": {},
   "outputs": [
    {
     "data": {
      "text/plain": [
       "'\\nplt.figure()\\nplt.plot(df_ge[\"Open\"])\\nplt.plot(df_ge[\"High\"])\\nplt.plot(df_ge[\"Low\"])\\nplt.plot(df_ge[\"Close\"])\\nplt.title(\\'GE stock price history\\')\\nplt.ylabel(\\'Price (USD)\\')\\nplt.xlabel(\\'Days\\')\\nplt.legend([\\'Open\\',\\'High\\',\\'Low\\',\\'Close\\'], loc=\\'upper left\\')\\nplt.show()\\n'"
      ]
     },
     "execution_count": 3,
     "metadata": {},
     "output_type": "execute_result"
    }
   ],
   "source": [
    "'''\n",
    "plt.figure()\n",
    "plt.plot(df_ge[\"Open\"])\n",
    "plt.plot(df_ge[\"High\"])\n",
    "plt.plot(df_ge[\"Low\"])\n",
    "plt.plot(df_ge[\"Close\"])\n",
    "plt.title('GE stock price history')\n",
    "plt.ylabel('Price (USD)')\n",
    "plt.xlabel('Days')\n",
    "plt.legend(['Open','High','Low','Close'], loc='upper left')\n",
    "plt.show()\n",
    "'''"
   ]
  },
  {
   "cell_type": "code",
   "execution_count": 4,
   "metadata": {},
   "outputs": [
    {
     "data": {
      "text/plain": [
       "'\\nplt.figure()\\nplt.plot(df_ge[\"Volume\"])\\nplt.title(\\'GE stock volume history\\')\\nplt.ylabel(\\'Volume\\')\\nplt.xlabel(\\'Days\\')\\nplt.show()\\n'"
      ]
     },
     "execution_count": 4,
     "metadata": {},
     "output_type": "execute_result"
    }
   ],
   "source": [
    "'''\n",
    "plt.figure()\n",
    "plt.plot(df_ge[\"Volume\"])\n",
    "plt.title('GE stock volume history')\n",
    "plt.ylabel('Volume')\n",
    "plt.xlabel('Days')\n",
    "plt.show()\n",
    "'''"
   ]
  },
  {
   "cell_type": "code",
   "execution_count": 5,
   "metadata": {},
   "outputs": [
    {
     "name": "stdout",
     "output_type": "stream",
     "text": [
      "checking if any null values are present\n",
      " Open       0\n",
      "High       0\n",
      "Low        0\n",
      "Close      0\n",
      "Volume     0\n",
      "OpenInt    0\n",
      "dtype: int64\n"
     ]
    }
   ],
   "source": [
    "print(\"checking if any null values are present\\n\", df_ge.isna().sum())"
   ]
  },
  {
   "cell_type": "code",
   "execution_count": 6,
   "metadata": {},
   "outputs": [
    {
     "name": "stdout",
     "output_type": "stream",
     "text": [
      "Train and Test size 11246 2812\n"
     ]
    }
   ],
   "source": [
    "#train_cols = [\"Open\",\"High\",\"Low\",\"Close\",\"Volume\"]\n",
    "train_cols = [\"Open\",\"High\",\"Low\",\"Close\"]\n",
    "df_train, df_test = train_test_split(df_ge, train_size=0.8, test_size=0.2, shuffle=False)\n",
    "print(\"Train and Test size\", len(df_train), len(df_test))"
   ]
  },
  {
   "cell_type": "code",
   "execution_count": 7,
   "metadata": {},
   "outputs": [
    {
     "data": {
      "text/plain": [
       "array([[27.935, 28.049, 27.769, 28.049],\n",
       "       [27.814, 28.066, 27.776, 28.003],\n",
       "       [28.099, 28.178, 27.953, 28.058],\n",
       "       ...,\n",
       "       [20.21 , 20.32 , 20.07 , 20.12 ],\n",
       "       [20.04 , 20.071, 19.85 , 19.99 ],\n",
       "       [19.98 , 20.68 , 19.9  , 20.49 ]])"
      ]
     },
     "execution_count": 7,
     "metadata": {},
     "output_type": "execute_result"
    }
   ],
   "source": [
    "# Loading training data into X\n",
    "x = df_train.loc[:,train_cols].values\n",
    "# Min Max scalr normalizing\n",
    "#min_max_scaler = MinMaxScaler()\n",
    "# Normalizing Training data\n",
    "#x_train = min_max_scaler.fit_transform(x)\n",
    "x_train=x\n",
    "# Normalizing testing\n",
    "#x_test = min_max_scaler.transform(df_test.loc[:,train_cols])\n",
    "x_test = df_test.loc[:,train_cols].values\n",
    "x_test"
   ]
  },
  {
   "cell_type": "code",
   "execution_count": 8,
   "metadata": {},
   "outputs": [],
   "source": [
    "def build_timeseries(mat, y_col_index, TIME_STEPS):\n",
    "    # y_col_index is the index of column that would act as output column\n",
    "    # total number of time-series samples would be len(mat) - TIME_STEPS\n",
    "    dim_0 = mat.shape[0] - TIME_STEPS\n",
    "    dim_1 = mat.shape[1]\n",
    "    x = np.zeros((dim_0, TIME_STEPS, dim_1))\n",
    "    y = np.zeros((dim_0,))\n",
    "    \n",
    "    for i in tqdm_notebook(range(dim_0)):\n",
    "        x[i] = mat[i:TIME_STEPS+i]\n",
    "        y[i] = mat[TIME_STEPS+i, y_col_index]\n",
    "    print(\"length of time-series i/o\",x.shape,y.shape)\n",
    "    return x, y"
   ]
  },
  {
   "cell_type": "code",
   "execution_count": 9,
   "metadata": {},
   "outputs": [],
   "source": [
    "def trim_dataset(mat, batch_size):\n",
    "    \"\"\"\n",
    "    trims dataset to a size that's divisible by BATCH_SIZE\n",
    "    \"\"\"\n",
    "    no_of_rows_drop = mat.shape[0]%batch_size\n",
    "    if(no_of_rows_drop > 0):\n",
    "        return mat[:-no_of_rows_drop]\n",
    "    else:\n",
    "        return mat"
   ]
  },
  {
   "cell_type": "code",
   "execution_count": 10,
   "metadata": {},
   "outputs": [
    {
     "name": "stderr",
     "output_type": "stream",
     "text": [
      "/Users/dmitryshribak/.conda/envs/PycharmProjects/lib/python3.7/site-packages/ipykernel_launcher.py:9: TqdmDeprecationWarning: This function will be removed in tqdm==5.0.0\n",
      "Please use `tqdm.notebook.tqdm` instead of `tqdm.tqdm_notebook`\n",
      "  if __name__ == '__main__':\n"
     ]
    },
    {
     "data": {
      "application/vnd.jupyter.widget-view+json": {
       "model_id": "5bb55606835b4c7ea4892c57f9fef977",
       "version_major": 2,
       "version_minor": 0
      },
      "text/plain": [
       "HBox(children=(FloatProgress(value=0.0, max=11228.0), HTML(value='')))"
      ]
     },
     "metadata": {},
     "output_type": "display_data"
    },
    {
     "name": "stdout",
     "output_type": "stream",
     "text": [
      "\n",
      "length of time-series i/o (11228, 18, 4) (11228,)\n"
     ]
    },
    {
     "data": {
      "application/vnd.jupyter.widget-view+json": {
       "model_id": "77ae0354e3be4d42b0704538d89af464",
       "version_major": 2,
       "version_minor": 0
      },
      "text/plain": [
       "HBox(children=(FloatProgress(value=0.0, max=2794.0), HTML(value='')))"
      ]
     },
     "metadata": {},
     "output_type": "display_data"
    },
    {
     "name": "stdout",
     "output_type": "stream",
     "text": [
      "\n",
      "length of time-series i/o (2794, 18, 4) (2794,)\n"
     ]
    }
   ],
   "source": [
    "TIME_STEPS = 18\n",
    "Y_index = 3\n",
    "X_Train, Y_Train = build_timeseries(x_train, Y_index,TIME_STEPS)\n",
    "#x_t = trim_dataset(x_t, BATCH_SIZE)\n",
    "#y_t = trim_dataset(y_t, BATCH_SIZE)\n",
    "X_Val, Y_Val = build_timeseries(x_test,  Y_index,TIME_STEPS)\n",
    "#x_val, x_test_t = np.split(trim_dataset(x_temp, BATCH_SIZE),2)\n",
    "#y_val, y_test_t = np.split(trim_dataset(y_temp, BATCH_SIZE),2)"
   ]
  },
  {
   "cell_type": "code",
   "execution_count": 11,
   "metadata": {},
   "outputs": [
    {
     "data": {
      "text/plain": [
       "array([ 0.5957,  0.5957,  0.6037, ..., 27.382 , 27.718 , 27.912 ])"
      ]
     },
     "execution_count": 11,
     "metadata": {},
     "output_type": "execute_result"
    }
   ],
   "source": [
    "Y_Train"
   ]
  },
  {
   "cell_type": "code",
   "execution_count": 12,
   "metadata": {},
   "outputs": [
    {
     "data": {
      "text/plain": [
       "(11228, 18, 4)"
      ]
     },
     "execution_count": 12,
     "metadata": {},
     "output_type": "execute_result"
    }
   ],
   "source": [
    "X_Train.shape"
   ]
  },
  {
   "cell_type": "code",
   "execution_count": 13,
   "metadata": {},
   "outputs": [
    {
     "name": "stdout",
     "output_type": "stream",
     "text": [
      "WARNING:tensorflow:From /Users/dmitryshribak/.conda/envs/PycharmProjects/lib/python3.7/site-packages/keras/backend/tensorflow_backend.py:74: The name tf.get_default_graph is deprecated. Please use tf.compat.v1.get_default_graph instead.\n",
      "\n",
      "WARNING:tensorflow:From /Users/dmitryshribak/.conda/envs/PycharmProjects/lib/python3.7/site-packages/keras/backend/tensorflow_backend.py:517: The name tf.placeholder is deprecated. Please use tf.compat.v1.placeholder instead.\n",
      "\n",
      "WARNING:tensorflow:From /Users/dmitryshribak/.conda/envs/PycharmProjects/lib/python3.7/site-packages/keras/backend/tensorflow_backend.py:4138: The name tf.random_uniform is deprecated. Please use tf.random.uniform instead.\n",
      "\n",
      "WARNING:tensorflow:From /Users/dmitryshribak/.conda/envs/PycharmProjects/lib/python3.7/site-packages/keras/backend/tensorflow_backend.py:133: The name tf.placeholder_with_default is deprecated. Please use tf.compat.v1.placeholder_with_default instead.\n",
      "\n",
      "WARNING:tensorflow:From /Users/dmitryshribak/.conda/envs/PycharmProjects/lib/python3.7/site-packages/keras/backend/tensorflow_backend.py:3445: calling dropout (from tensorflow.python.ops.nn_ops) with keep_prob is deprecated and will be removed in a future version.\n",
      "Instructions for updating:\n",
      "Please use `rate` instead of `keep_prob`. Rate should be set to `rate = 1 - keep_prob`.\n",
      "WARNING:tensorflow:From /Users/dmitryshribak/.conda/envs/PycharmProjects/lib/python3.7/site-packages/keras/optimizers.py:790: The name tf.train.Optimizer is deprecated. Please use tf.compat.v1.train.Optimizer instead.\n",
      "\n",
      "WARNING:tensorflow:From /Users/dmitryshribak/.conda/envs/PycharmProjects/lib/python3.7/site-packages/tensorflow_core/python/ops/math_grad.py:1424: where (from tensorflow.python.ops.array_ops) is deprecated and will be removed in a future version.\n",
      "Instructions for updating:\n",
      "Use tf.where in 2.0, which has the same broadcast rule as np.where\n",
      "WARNING:tensorflow:From /Users/dmitryshribak/.conda/envs/PycharmProjects/lib/python3.7/site-packages/keras/backend/tensorflow_backend.py:986: The name tf.assign_add is deprecated. Please use tf.compat.v1.assign_add instead.\n",
      "\n",
      "WARNING:tensorflow:From /Users/dmitryshribak/.conda/envs/PycharmProjects/lib/python3.7/site-packages/keras/backend/tensorflow_backend.py:973: The name tf.assign is deprecated. Please use tf.compat.v1.assign instead.\n",
      "\n",
      "WARNING:tensorflow:From /Users/dmitryshribak/.conda/envs/PycharmProjects/lib/python3.7/site-packages/keras/backend/tensorflow_backend.py:2741: The name tf.Session is deprecated. Please use tf.compat.v1.Session instead.\n",
      "\n",
      "Train on 11228 samples, validate on 2794 samples\n",
      "Epoch 1/100\n",
      "WARNING:tensorflow:From /Users/dmitryshribak/.conda/envs/PycharmProjects/lib/python3.7/site-packages/keras/backend/tensorflow_backend.py:174: The name tf.get_default_session is deprecated. Please use tf.compat.v1.get_default_session instead.\n",
      "\n",
      "WARNING:tensorflow:From /Users/dmitryshribak/.conda/envs/PycharmProjects/lib/python3.7/site-packages/keras/backend/tensorflow_backend.py:181: The name tf.ConfigProto is deprecated. Please use tf.compat.v1.ConfigProto instead.\n",
      "\n",
      "WARNING:tensorflow:From /Users/dmitryshribak/.conda/envs/PycharmProjects/lib/python3.7/site-packages/keras/backend/tensorflow_backend.py:190: The name tf.global_variables is deprecated. Please use tf.compat.v1.global_variables instead.\n",
      "\n",
      "WARNING:tensorflow:From /Users/dmitryshribak/.conda/envs/PycharmProjects/lib/python3.7/site-packages/keras/backend/tensorflow_backend.py:199: The name tf.is_variable_initialized is deprecated. Please use tf.compat.v1.is_variable_initialized instead.\n",
      "\n",
      "WARNING:tensorflow:From /Users/dmitryshribak/.conda/envs/PycharmProjects/lib/python3.7/site-packages/keras/backend/tensorflow_backend.py:206: The name tf.variables_initializer is deprecated. Please use tf.compat.v1.variables_initializer instead.\n",
      "\n",
      "11228/11228 [==============================] - 33s 3ms/step - loss: 24.4201 - acc: 8.9063e-05 - val_loss: 2.7537 - val_acc: 3.5791e-04\n",
      "Epoch 2/100\n",
      "11228/11228 [==============================] - 24s 2ms/step - loss: 2.4220 - acc: 0.0000e+00 - val_loss: 0.8102 - val_acc: 0.0000e+00\n",
      "Epoch 3/100\n",
      "11228/11228 [==============================] - 24s 2ms/step - loss: 1.7904 - acc: 0.0000e+00 - val_loss: 2.4410 - val_acc: 0.0000e+00\n",
      "Epoch 4/100\n",
      "11228/11228 [==============================] - 23s 2ms/step - loss: 1.6900 - acc: 0.0000e+00 - val_loss: 0.4765 - val_acc: 7.1582e-04\n",
      "Epoch 5/100\n",
      "11228/11228 [==============================] - 23s 2ms/step - loss: 1.4556 - acc: 0.0000e+00 - val_loss: 0.3025 - val_acc: 7.1582e-04\n",
      "Epoch 6/100\n",
      "11228/11228 [==============================] - 23s 2ms/step - loss: 1.5569 - acc: 0.0000e+00 - val_loss: 2.4049 - val_acc: 3.5791e-04\n",
      "Epoch 7/100\n",
      "11228/11228 [==============================] - 22s 2ms/step - loss: 1.4506 - acc: 0.0000e+00 - val_loss: 0.6880 - val_acc: 7.1582e-04\n",
      "Epoch 8/100\n",
      "11228/11228 [==============================] - 24s 2ms/step - loss: 1.4444 - acc: 0.0000e+00 - val_loss: 1.5830 - val_acc: 0.0000e+00\n",
      "Epoch 9/100\n",
      "11228/11228 [==============================] - 24s 2ms/step - loss: 1.4613 - acc: 0.0000e+00 - val_loss: 0.3798 - val_acc: 7.1582e-04\n",
      "Epoch 10/100\n",
      "11228/11228 [==============================] - 24s 2ms/step - loss: 1.4519 - acc: 0.0000e+00 - val_loss: 0.6420 - val_acc: 0.0011\n",
      "Epoch 11/100\n",
      "11228/11228 [==============================] - 28s 3ms/step - loss: 1.2754 - acc: 8.9063e-05 - val_loss: 0.2602 - val_acc: 0.0011\n",
      "Epoch 12/100\n",
      "11228/11228 [==============================] - 30s 3ms/step - loss: 1.2036 - acc: 0.0000e+00 - val_loss: 0.6918 - val_acc: 0.0000e+00\n",
      "Epoch 13/100\n",
      "11228/11228 [==============================] - 32s 3ms/step - loss: 1.1505 - acc: 0.0000e+00 - val_loss: 0.7934 - val_acc: 3.5791e-04\n",
      "Epoch 14/100\n",
      "11228/11228 [==============================] - 32s 3ms/step - loss: 1.2464 - acc: 0.0000e+00 - val_loss: 0.3669 - val_acc: 7.1582e-04\n",
      "Epoch 15/100\n",
      "11228/11228 [==============================] - 31s 3ms/step - loss: 1.1299 - acc: 0.0000e+00 - val_loss: 0.5017 - val_acc: 0.0011\n",
      "Epoch 16/100\n",
      "11228/11228 [==============================] - 31s 3ms/step - loss: 1.2077 - acc: 0.0000e+00 - val_loss: 0.8433 - val_acc: 0.0000e+00\n",
      "Epoch 17/100\n",
      "11228/11228 [==============================] - 31s 3ms/step - loss: 1.0064 - acc: 0.0000e+00 - val_loss: 1.3201 - val_acc: 3.5791e-04\n",
      "Epoch 18/100\n",
      "11228/11228 [==============================] - 30s 3ms/step - loss: 1.0483 - acc: 0.0000e+00 - val_loss: 0.6359 - val_acc: 7.1582e-04\n",
      "Epoch 19/100\n",
      "11228/11228 [==============================] - 30s 3ms/step - loss: 1.0033 - acc: 8.9063e-05 - val_loss: 0.6342 - val_acc: 3.5791e-04\n",
      "Epoch 20/100\n",
      "11228/11228 [==============================] - 28s 3ms/step - loss: 0.9278 - acc: 8.9063e-05 - val_loss: 0.5229 - val_acc: 0.0011\n",
      "Epoch 21/100\n",
      "11228/11228 [==============================] - 30s 3ms/step - loss: 0.9961 - acc: 8.9063e-05 - val_loss: 0.5632 - val_acc: 3.5791e-04\n",
      "Epoch 22/100\n",
      "11228/11228 [==============================] - 30s 3ms/step - loss: 0.8742 - acc: 0.0000e+00 - val_loss: 0.4891 - val_acc: 7.1582e-04\n",
      "Epoch 23/100\n",
      "11228/11228 [==============================] - 22s 2ms/step - loss: 0.8844 - acc: 0.0000e+00 - val_loss: 0.7734 - val_acc: 3.5791e-04\n",
      "Epoch 24/100\n",
      "11228/11228 [==============================] - 20s 2ms/step - loss: 0.8434 - acc: 0.0000e+00 - val_loss: 0.4421 - val_acc: 3.5791e-04\n",
      "Epoch 25/100\n",
      "11228/11228 [==============================] - 20s 2ms/step - loss: 0.9156 - acc: 0.0000e+00 - val_loss: 0.2607 - val_acc: 0.0014\n",
      "Epoch 26/100\n",
      "11228/11228 [==============================] - 21s 2ms/step - loss: 0.8568 - acc: 0.0000e+00 - val_loss: 0.6761 - val_acc: 3.5791e-04\n",
      "Epoch 27/100\n",
      "11228/11228 [==============================] - 22s 2ms/step - loss: 0.8165 - acc: 8.9063e-05 - val_loss: 1.6282 - val_acc: 0.0000e+00\n",
      "Epoch 28/100\n",
      "11228/11228 [==============================] - 21s 2ms/step - loss: 0.8208 - acc: 0.0000e+00 - val_loss: 0.3930 - val_acc: 0.0011\n",
      "Epoch 29/100\n",
      "11228/11228 [==============================] - 21s 2ms/step - loss: 0.8155 - acc: 0.0000e+00 - val_loss: 0.7200 - val_acc: 0.0000e+00\n",
      "Epoch 30/100\n",
      "11228/11228 [==============================] - 21s 2ms/step - loss: 0.7843 - acc: 8.9063e-05 - val_loss: 0.8084 - val_acc: 3.5791e-04\n",
      "Epoch 31/100\n",
      "11228/11228 [==============================] - 21s 2ms/step - loss: 0.7909 - acc: 8.9063e-05 - val_loss: 0.9317 - val_acc: 3.5791e-04\n",
      "Epoch 32/100\n",
      "11228/11228 [==============================] - 21s 2ms/step - loss: 0.6974 - acc: 8.9063e-05 - val_loss: 0.1928 - val_acc: 0.0011\n",
      "Epoch 33/100\n",
      "11228/11228 [==============================] - 21s 2ms/step - loss: 0.7784 - acc: 8.9063e-05 - val_loss: 0.1956 - val_acc: 7.1582e-04\n",
      "Epoch 34/100\n",
      "11228/11228 [==============================] - 21s 2ms/step - loss: 0.7135 - acc: 0.0000e+00 - val_loss: 0.3306 - val_acc: 7.1582e-04\n",
      "Epoch 35/100\n",
      "11228/11228 [==============================] - 21s 2ms/step - loss: 0.6982 - acc: 8.9063e-05 - val_loss: 0.2268 - val_acc: 7.1582e-04\n",
      "Epoch 36/100\n",
      "11228/11228 [==============================] - 21s 2ms/step - loss: 0.6072 - acc: 0.0000e+00 - val_loss: 2.4036 - val_acc: 3.5791e-04\n",
      "Epoch 37/100\n",
      "11228/11228 [==============================] - 21s 2ms/step - loss: 0.6843 - acc: 0.0000e+00 - val_loss: 0.4067 - val_acc: 7.1582e-04\n",
      "Epoch 38/100\n",
      "11228/11228 [==============================] - 23s 2ms/step - loss: 0.7029 - acc: 8.9063e-05 - val_loss: 0.2413 - val_acc: 7.1582e-04\n",
      "Epoch 39/100\n",
      "11228/11228 [==============================] - 27s 2ms/step - loss: 0.6714 - acc: 0.0000e+00 - val_loss: 0.2084 - val_acc: 0.0011\n",
      "Epoch 40/100\n",
      "11228/11228 [==============================] - 30s 3ms/step - loss: 0.6185 - acc: 8.9063e-05 - val_loss: 0.5301 - val_acc: 3.5791e-04\n",
      "Epoch 41/100\n",
      "11228/11228 [==============================] - 31s 3ms/step - loss: 0.6787 - acc: 0.0000e+00 - val_loss: 1.0997 - val_acc: 0.0000e+00\n",
      "Epoch 42/100\n",
      "11228/11228 [==============================] - 30s 3ms/step - loss: 0.6233 - acc: 0.0000e+00 - val_loss: 0.2499 - val_acc: 7.1582e-04\n",
      "Epoch 43/100\n",
      "11228/11228 [==============================] - 31s 3ms/step - loss: 0.5454 - acc: 0.0000e+00 - val_loss: 0.3180 - val_acc: 7.1582e-04\n",
      "Epoch 44/100\n",
      "11228/11228 [==============================] - 31s 3ms/step - loss: 0.6618 - acc: 0.0000e+00 - val_loss: 0.2465 - val_acc: 7.1582e-04\n",
      "Epoch 45/100\n",
      "11228/11228 [==============================] - 29s 3ms/step - loss: 0.5276 - acc: 0.0000e+00 - val_loss: 0.5759 - val_acc: 3.5791e-04\n",
      "Epoch 46/100\n",
      "11228/11228 [==============================] - 26s 2ms/step - loss: 0.4433 - acc: 8.9063e-05 - val_loss: 0.2535 - val_acc: 7.1582e-04\n",
      "Epoch 47/100\n",
      "11228/11228 [==============================] - 26s 2ms/step - loss: 0.4869 - acc: 0.0000e+00 - val_loss: 0.5111 - val_acc: 7.1582e-04\n",
      "Epoch 48/100\n",
      "11228/11228 [==============================] - 28s 3ms/step - loss: 0.4388 - acc: 0.0000e+00 - val_loss: 0.4556 - val_acc: 3.5791e-04\n",
      "Epoch 49/100\n",
      "11228/11228 [==============================] - 28s 2ms/step - loss: 0.4791 - acc: 0.0000e+00 - val_loss: 0.3786 - val_acc: 7.1582e-04\n",
      "Epoch 50/100\n",
      "11228/11228 [==============================] - 31s 3ms/step - loss: 0.4495 - acc: 8.9063e-05 - val_loss: 0.4603 - val_acc: 0.0011\n",
      "Epoch 51/100\n",
      "11228/11228 [==============================] - 30s 3ms/step - loss: 0.5279 - acc: 8.9063e-05 - val_loss: 1.0142 - val_acc: 0.0000e+00\n",
      "Epoch 52/100\n",
      "11228/11228 [==============================] - 33s 3ms/step - loss: 0.4216 - acc: 0.0000e+00 - val_loss: 0.3213 - val_acc: 7.1582e-04\n",
      "Epoch 53/100\n",
      "11228/11228 [==============================] - 33s 3ms/step - loss: 0.4238 - acc: 0.0000e+00 - val_loss: 0.2135 - val_acc: 7.1582e-04\n",
      "Epoch 54/100\n",
      "11228/11228 [==============================] - 30s 3ms/step - loss: 0.4352 - acc: 8.9063e-05 - val_loss: 0.3075 - val_acc: 0.0011\n",
      "Epoch 55/100\n",
      "11228/11228 [==============================] - 32s 3ms/step - loss: 0.4047 - acc: 8.9063e-05 - val_loss: 0.7556 - val_acc: 3.5791e-04\n",
      "Epoch 56/100\n",
      "11228/11228 [==============================] - 30s 3ms/step - loss: 0.3604 - acc: 0.0000e+00 - val_loss: 0.8293 - val_acc: 0.0000e+00\n",
      "Epoch 57/100\n",
      "11228/11228 [==============================] - 31s 3ms/step - loss: 0.3810 - acc: 0.0000e+00 - val_loss: 0.2818 - val_acc: 0.0011\n",
      "Epoch 58/100\n",
      "11228/11228 [==============================] - 27s 2ms/step - loss: 0.3951 - acc: 0.0000e+00 - val_loss: 0.2642 - val_acc: 0.0011\n",
      "Epoch 59/100\n",
      "11228/11228 [==============================] - 24s 2ms/step - loss: 0.4360 - acc: 0.0000e+00 - val_loss: 0.4110 - val_acc: 7.1582e-04\n",
      "Epoch 60/100\n",
      "11228/11228 [==============================] - 21s 2ms/step - loss: 0.3742 - acc: 0.0000e+00 - val_loss: 0.2271 - val_acc: 0.0011\n",
      "Epoch 61/100\n",
      "11228/11228 [==============================] - 21s 2ms/step - loss: 0.3359 - acc: 0.0000e+00 - val_loss: 0.2904 - val_acc: 0.0014\n",
      "Epoch 62/100\n",
      "11228/11228 [==============================] - 21s 2ms/step - loss: 0.3590 - acc: 0.0000e+00 - val_loss: 0.8061 - val_acc: 7.1582e-04\n",
      "Epoch 63/100\n",
      "11228/11228 [==============================] - 21s 2ms/step - loss: 0.3429 - acc: 0.0000e+00 - val_loss: 1.2938 - val_acc: 0.0000e+00\n",
      "Epoch 64/100\n",
      "11228/11228 [==============================] - 21s 2ms/step - loss: 0.3242 - acc: 8.9063e-05 - val_loss: 0.4095 - val_acc: 0.0011\n",
      "Epoch 65/100\n",
      "11228/11228 [==============================] - 23s 2ms/step - loss: 0.3192 - acc: 8.9063e-05 - val_loss: 0.2271 - val_acc: 7.1582e-04\n",
      "Epoch 66/100\n",
      "11228/11228 [==============================] - 21s 2ms/step - loss: 0.3598 - acc: 8.9063e-05 - val_loss: 0.3140 - val_acc: 0.0011\n",
      "Epoch 67/100\n",
      "11228/11228 [==============================] - 23s 2ms/step - loss: 0.3393 - acc: 0.0000e+00 - val_loss: 0.3647 - val_acc: 7.1582e-04\n",
      "Epoch 68/100\n",
      "11228/11228 [==============================] - 23s 2ms/step - loss: 0.2926 - acc: 0.0000e+00 - val_loss: 0.2286 - val_acc: 0.0011\n",
      "Epoch 69/100\n",
      "11228/11228 [==============================] - 22s 2ms/step - loss: 0.3761 - acc: 8.9063e-05 - val_loss: 0.2738 - val_acc: 7.1582e-04\n",
      "Epoch 70/100\n",
      "11228/11228 [==============================] - 22s 2ms/step - loss: 0.3095 - acc: 8.9063e-05 - val_loss: 0.2801 - val_acc: 7.1582e-04\n",
      "Epoch 71/100\n",
      "11228/11228 [==============================] - 23s 2ms/step - loss: 0.3267 - acc: 8.9063e-05 - val_loss: 0.3363 - val_acc: 7.1582e-04\n",
      "Epoch 72/100\n",
      "11228/11228 [==============================] - 22s 2ms/step - loss: 0.3679 - acc: 0.0000e+00 - val_loss: 0.7587 - val_acc: 3.5791e-04\n",
      "Epoch 73/100\n",
      "11228/11228 [==============================] - 23s 2ms/step - loss: 0.3193 - acc: 0.0000e+00 - val_loss: 0.5959 - val_acc: 3.5791e-04\n",
      "Epoch 74/100\n",
      "11228/11228 [==============================] - 24s 2ms/step - loss: 0.2880 - acc: 8.9063e-05 - val_loss: 0.2941 - val_acc: 0.0011\n",
      "Epoch 75/100\n",
      "11228/11228 [==============================] - 24s 2ms/step - loss: 0.2811 - acc: 8.9063e-05 - val_loss: 0.5663 - val_acc: 3.5791e-04\n",
      "Epoch 76/100\n",
      "11228/11228 [==============================] - 21s 2ms/step - loss: 0.3194 - acc: 0.0000e+00 - val_loss: 0.2597 - val_acc: 7.1582e-04\n",
      "Epoch 77/100\n",
      "11228/11228 [==============================] - 21s 2ms/step - loss: 0.3202 - acc: 8.9063e-05 - val_loss: 0.2544 - val_acc: 0.0011\n",
      "Epoch 78/100\n",
      "11228/11228 [==============================] - 21s 2ms/step - loss: 0.2888 - acc: 8.9063e-05 - val_loss: 0.2627 - val_acc: 0.0011\n",
      "Epoch 79/100\n",
      "11228/11228 [==============================] - 21s 2ms/step - loss: 0.2647 - acc: 8.9063e-05 - val_loss: 0.2662 - val_acc: 7.1582e-04\n",
      "Epoch 80/100\n",
      "11228/11228 [==============================] - 22s 2ms/step - loss: 0.3379 - acc: 0.0000e+00 - val_loss: 0.2068 - val_acc: 0.0011\n",
      "Epoch 81/100\n",
      "11228/11228 [==============================] - 22s 2ms/step - loss: 0.3385 - acc: 8.9063e-05 - val_loss: 0.2688 - val_acc: 0.0011\n",
      "Epoch 82/100\n",
      "11228/11228 [==============================] - 21s 2ms/step - loss: 0.2846 - acc: 8.9063e-05 - val_loss: 0.3790 - val_acc: 7.1582e-04\n",
      "Epoch 83/100\n",
      "11228/11228 [==============================] - 21s 2ms/step - loss: 0.2721 - acc: 0.0000e+00 - val_loss: 0.3326 - val_acc: 7.1582e-04\n",
      "Epoch 84/100\n",
      "11228/11228 [==============================] - 21s 2ms/step - loss: 0.2787 - acc: 0.0000e+00 - val_loss: 0.2144 - val_acc: 7.1582e-04\n",
      "Epoch 85/100\n",
      "11228/11228 [==============================] - 22s 2ms/step - loss: 0.2703 - acc: 8.9063e-05 - val_loss: 0.5886 - val_acc: 7.1582e-04\n",
      "Epoch 86/100\n",
      "11228/11228 [==============================] - 22s 2ms/step - loss: 0.3104 - acc: 0.0000e+00 - val_loss: 0.3687 - val_acc: 0.0011\n",
      "Epoch 87/100\n"
     ]
    },
    {
     "name": "stdout",
     "output_type": "stream",
     "text": [
      "11228/11228 [==============================] - 22s 2ms/step - loss: 0.2782 - acc: 8.9063e-05 - val_loss: 0.6309 - val_acc: 3.5791e-04\n",
      "Epoch 88/100\n",
      "11228/11228 [==============================] - 22s 2ms/step - loss: 0.2852 - acc: 8.9063e-05 - val_loss: 0.3393 - val_acc: 7.1582e-04\n",
      "Epoch 89/100\n",
      "11228/11228 [==============================] - 22s 2ms/step - loss: 0.2602 - acc: 8.9063e-05 - val_loss: 0.2724 - val_acc: 0.0014\n",
      "Epoch 90/100\n",
      "11228/11228 [==============================] - 22s 2ms/step - loss: 0.2618 - acc: 8.9063e-05 - val_loss: 0.2249 - val_acc: 0.0011\n",
      "Epoch 91/100\n",
      "11228/11228 [==============================] - 22s 2ms/step - loss: 0.2723 - acc: 8.9063e-05 - val_loss: 0.2290 - val_acc: 7.1582e-04\n",
      "Epoch 92/100\n",
      "11228/11228 [==============================] - 22s 2ms/step - loss: 0.2602 - acc: 0.0000e+00 - val_loss: 0.4012 - val_acc: 3.5791e-04\n",
      "Epoch 93/100\n",
      "11228/11228 [==============================] - 21s 2ms/step - loss: 0.2783 - acc: 8.9063e-05 - val_loss: 0.3108 - val_acc: 7.1582e-04\n",
      "Epoch 94/100\n",
      "11228/11228 [==============================] - 22s 2ms/step - loss: 0.2535 - acc: 8.9063e-05 - val_loss: 0.5942 - val_acc: 3.5791e-04\n",
      "Epoch 95/100\n",
      "11228/11228 [==============================] - 23s 2ms/step - loss: 0.2909 - acc: 8.9063e-05 - val_loss: 0.5301 - val_acc: 7.1582e-04\n",
      "Epoch 96/100\n",
      "11228/11228 [==============================] - 23s 2ms/step - loss: 0.2579 - acc: 8.9063e-05 - val_loss: 0.2626 - val_acc: 7.1582e-04\n",
      "Epoch 97/100\n",
      "11228/11228 [==============================] - 23s 2ms/step - loss: 0.3030 - acc: 0.0000e+00 - val_loss: 0.2583 - val_acc: 7.1582e-04\n",
      "Epoch 98/100\n",
      "11228/11228 [==============================] - 23s 2ms/step - loss: 0.2938 - acc: 0.0000e+00 - val_loss: 0.2693 - val_acc: 0.0011\n",
      "Epoch 99/100\n",
      "11228/11228 [==============================] - 24s 2ms/step - loss: 0.2604 - acc: 8.9063e-05 - val_loss: 0.3598 - val_acc: 0.0011\n",
      "Epoch 100/100\n",
      "11228/11228 [==============================] - 24s 2ms/step - loss: 0.2639 - acc: 8.9063e-05 - val_loss: 0.5308 - val_acc: 3.5791e-04\n",
      "_________________________________________________________________\n",
      "Layer (type)                 Output Shape              Param #   \n",
      "=================================================================\n",
      "lstm_1 (LSTM)                (None, 18, 24)            2784      \n",
      "_________________________________________________________________\n",
      "dropout_1 (Dropout)          (None, 18, 24)            0         \n",
      "_________________________________________________________________\n",
      "lstm_2 (LSTM)                (None, 50)                15000     \n",
      "_________________________________________________________________\n",
      "dropout_2 (Dropout)          (None, 50)                0         \n",
      "_________________________________________________________________\n",
      "dense_1 (Dense)              (None, 20)                1020      \n",
      "_________________________________________________________________\n",
      "dense_2 (Dense)              (None, 1)                 21        \n",
      "=================================================================\n",
      "Total params: 18,825\n",
      "Trainable params: 18,825\n",
      "Non-trainable params: 0\n",
      "_________________________________________________________________\n"
     ]
    }
   ],
   "source": [
    "# Initialising the RNN\n",
    "model = Sequential()\n",
    "# Adding the first LSTM layer and some Dropout regularisation\n",
    "model.add(LSTM(24, return_sequences=True,\n",
    "               input_shape=(X_Train.shape[1], X_Train.shape[2])))  # returns a sequence of vectors of dimension 64\n",
    "model.add(Dropout(0.2))\n",
    "\n",
    "# Adding a second LSTM layer and some Dropout regularisation\n",
    "model.add(LSTM(units = 50))\n",
    "model.add(Dropout(0.2))\n",
    "\n",
    "model.add(Dense(20,activation='relu'))\n",
    "\n",
    "\n",
    "# Adding the output layer\n",
    "#model.add(Dense(1, activation=\"linear\"))\n",
    "model.add(Dense(1))\n",
    "\n",
    "#model.add(Dense(units = 1))\n",
    "# Compiling the RNN\n",
    "\n",
    "model.compile(optimizer = 'adam', loss = 'mean_squared_error',metrics=['accuracy'])\n",
    "\n",
    "history=model.fit(X_Train, Y_Train,\n",
    "          batch_size=32, epochs=100,\n",
    "          validation_data=(X_Val, Y_Val))\n",
    "# Model summary for number of parameters use in the algorithm \n",
    "model.summary()"
   ]
  },
  {
   "cell_type": "code",
   "execution_count": 14,
   "metadata": {},
   "outputs": [
    {
     "data": {
      "image/png": "[encoded data removed]",
      "text/plain": [
       "<Figure size 432x288 with 1 Axes>"
      ]
     },
     "metadata": {
      "needs_background": "light"
     },
     "output_type": "display_data"
    },
    {
     "data": {
      "image/png": "[encoded data removed]",
      "text/plain": [
       "<Figure size 432x288 with 1 Axes>"
      ]
     },
     "metadata": {
      "needs_background": "light"
     },
     "output_type": "display_data"
    }
   ],
   "source": [
    "plt.plot(history.history['acc'])\n",
    "plt.plot(history.history['val_acc'])\n",
    "plt.title('model accuracy')\n",
    "plt.ylabel('accuracy')\n",
    "plt.xlabel('epoch')\n",
    "plt.legend(['train', 'Val'], loc='upper left')\n",
    "plt.show()\n",
    "\n",
    "plt.plot(history.history['loss'])\n",
    "plt.plot(history.history['val_loss'])\n",
    "plt.title('model loss')\n",
    "plt.ylabel('loss')\n",
    "plt.xlabel('epoch')\n",
    "plt.legend(['train', 'Val'], loc='upper left')\n",
    "plt.show()\n"
   ]
  },
  {
   "cell_type": "code",
   "execution_count": 39,
   "metadata": {},
   "outputs": [],
   "source": [
    "model.save('my_model_01.hdf5')"
   ]
  },
  {
   "cell_type": "code",
   "execution_count": 66,
   "metadata": {},
   "outputs": [
    {
     "data": {
      "text/plain": [
       "'\\nx_buffer = np.zeros((1,TIME_STEPS,4))\\nfor i in range(X_Val.shape[0]):\\n    x_buffer[0,:,:] = X_Val[i,:,:]\\n    print(model.predict( x_buffer), Y_Val[i])\\n'"
      ]
     },
     "execution_count": 66,
     "metadata": {},
     "output_type": "execute_result"
    }
   ],
   "source": [
    "#print(model.predict(X_Val)\n",
    "'''\n",
    "x_buffer = np.zeros((1,TIME_STEPS,4))\n",
    "for i in range(X_Val.shape[0]):\n",
    "    x_buffer[0,:,:] = X_Val[i,:,:]\n",
    "    print(model.predict( x_buffer), Y_Val[i])\n",
    "'''"
   ]
  },
  {
   "cell_type": "code",
   "execution_count": 16,
   "metadata": {},
   "outputs": [
    {
     "data": {
      "text/plain": [
       "array([[28.431843],\n",
       "       [28.404356],\n",
       "       [28.560135],\n",
       "       ...,\n",
       "       [19.35654 ],\n",
       "       [19.362839],\n",
       "       [19.172773]], dtype=float32)"
      ]
     },
     "execution_count": 16,
     "metadata": {},
     "output_type": "execute_result"
    }
   ],
   "source": [
    "predict = model.predict(X_Val)\n",
    "predict"
   ]
  },
  {
   "cell_type": "code",
   "execution_count": 17,
   "metadata": {},
   "outputs": [
    {
     "ename": "ValueError",
     "evalue": "Format 'jpg' is not supported (supported formats: eps, pdf, pgf, png, ps, raw, rgba, svg, svgz)",
     "output_type": "error",
     "traceback": [
      "\u001b[0;31m---------------------------------------------------------------------------\u001b[0m",
      "\u001b[0;31mValueError\u001b[0m                                Traceback (most recent call last)",
      "\u001b[0;32m<ipython-input-17-b37f2db9384e>\u001b[0m in \u001b[0;36m<module>\u001b[0;34m\u001b[0m\n\u001b[1;32m      8\u001b[0m \u001b[0mplt\u001b[0m\u001b[0;34m.\u001b[0m\u001b[0mlegend\u001b[0m\u001b[0;34m(\u001b[0m\u001b[0;34m[\u001b[0m\u001b[0;34m'predict'\u001b[0m\u001b[0;34m,\u001b[0m\u001b[0;34m'Actual'\u001b[0m\u001b[0;34m]\u001b[0m\u001b[0;34m,\u001b[0m \u001b[0mloc\u001b[0m\u001b[0;34m=\u001b[0m\u001b[0;34m'upper left'\u001b[0m\u001b[0;34m)\u001b[0m\u001b[0;34m\u001b[0m\u001b[0;34m\u001b[0m\u001b[0m\n\u001b[1;32m      9\u001b[0m \u001b[0;34m\u001b[0m\u001b[0m\n\u001b[0;32m---> 10\u001b[0;31m \u001b[0mplt\u001b[0m\u001b[0;34m.\u001b[0m\u001b[0msavefig\u001b[0m\u001b[0;34m(\u001b[0m\u001b[0;34m\"figure.jpg\"\u001b[0m\u001b[0;34m)\u001b[0m\u001b[0;34m\u001b[0m\u001b[0;34m\u001b[0m\u001b[0m\n\u001b[0m\u001b[1;32m     11\u001b[0m \u001b[0mplt\u001b[0m\u001b[0;34m.\u001b[0m\u001b[0mshow\u001b[0m\u001b[0;34m(\u001b[0m\u001b[0;34m)\u001b[0m\u001b[0;34m\u001b[0m\u001b[0;34m\u001b[0m\u001b[0m\n",
      "\u001b[0;32m~/.conda/envs/PycharmProjects/lib/python3.7/site-packages/matplotlib/pyplot.py\u001b[0m in \u001b[0;36msavefig\u001b[0;34m(*args, **kwargs)\u001b[0m\n\u001b[1;32m    720\u001b[0m \u001b[0;32mdef\u001b[0m \u001b[0msavefig\u001b[0m\u001b[0;34m(\u001b[0m\u001b[0;34m*\u001b[0m\u001b[0margs\u001b[0m\u001b[0;34m,\u001b[0m \u001b[0;34m**\u001b[0m\u001b[0mkwargs\u001b[0m\u001b[0;34m)\u001b[0m\u001b[0;34m:\u001b[0m\u001b[0;34m\u001b[0m\u001b[0;34m\u001b[0m\u001b[0m\n\u001b[1;32m    721\u001b[0m     \u001b[0mfig\u001b[0m \u001b[0;34m=\u001b[0m \u001b[0mgcf\u001b[0m\u001b[0;34m(\u001b[0m\u001b[0;34m)\u001b[0m\u001b[0;34m\u001b[0m\u001b[0;34m\u001b[0m\u001b[0m\n\u001b[0;32m--> 722\u001b[0;31m     \u001b[0mres\u001b[0m \u001b[0;34m=\u001b[0m \u001b[0mfig\u001b[0m\u001b[0;34m.\u001b[0m\u001b[0msavefig\u001b[0m\u001b[0;34m(\u001b[0m\u001b[0;34m*\u001b[0m\u001b[0margs\u001b[0m\u001b[0;34m,\u001b[0m \u001b[0;34m**\u001b[0m\u001b[0mkwargs\u001b[0m\u001b[0;34m)\u001b[0m\u001b[0;34m\u001b[0m\u001b[0;34m\u001b[0m\u001b[0m\n\u001b[0m\u001b[1;32m    723\u001b[0m     \u001b[0mfig\u001b[0m\u001b[0;34m.\u001b[0m\u001b[0mcanvas\u001b[0m\u001b[0;34m.\u001b[0m\u001b[0mdraw_idle\u001b[0m\u001b[0;34m(\u001b[0m\u001b[0;34m)\u001b[0m   \u001b[0;31m# need this if 'transparent=True' to reset colors\u001b[0m\u001b[0;34m\u001b[0m\u001b[0;34m\u001b[0m\u001b[0m\n\u001b[1;32m    724\u001b[0m     \u001b[0;32mreturn\u001b[0m \u001b[0mres\u001b[0m\u001b[0;34m\u001b[0m\u001b[0;34m\u001b[0m\u001b[0m\n",
      "\u001b[0;32m~/.conda/envs/PycharmProjects/lib/python3.7/site-packages/matplotlib/figure.py\u001b[0m in \u001b[0;36msavefig\u001b[0;34m(self, fname, transparent, **kwargs)\u001b[0m\n\u001b[1;32m   2178\u001b[0m             \u001b[0mself\u001b[0m\u001b[0;34m.\u001b[0m\u001b[0mpatch\u001b[0m\u001b[0;34m.\u001b[0m\u001b[0mset_visible\u001b[0m\u001b[0;34m(\u001b[0m\u001b[0mframeon\u001b[0m\u001b[0;34m)\u001b[0m\u001b[0;34m\u001b[0m\u001b[0;34m\u001b[0m\u001b[0m\n\u001b[1;32m   2179\u001b[0m \u001b[0;34m\u001b[0m\u001b[0m\n\u001b[0;32m-> 2180\u001b[0;31m         \u001b[0mself\u001b[0m\u001b[0;34m.\u001b[0m\u001b[0mcanvas\u001b[0m\u001b[0;34m.\u001b[0m\u001b[0mprint_figure\u001b[0m\u001b[0;34m(\u001b[0m\u001b[0mfname\u001b[0m\u001b[0;34m,\u001b[0m \u001b[0;34m**\u001b[0m\u001b[0mkwargs\u001b[0m\u001b[0;34m)\u001b[0m\u001b[0;34m\u001b[0m\u001b[0;34m\u001b[0m\u001b[0m\n\u001b[0m\u001b[1;32m   2181\u001b[0m \u001b[0;34m\u001b[0m\u001b[0m\n\u001b[1;32m   2182\u001b[0m         \u001b[0;32mif\u001b[0m \u001b[0mframeon\u001b[0m\u001b[0;34m:\u001b[0m\u001b[0;34m\u001b[0m\u001b[0;34m\u001b[0m\u001b[0m\n",
      "\u001b[0;32m~/.conda/envs/PycharmProjects/lib/python3.7/site-packages/matplotlib/backend_bases.py\u001b[0m in \u001b[0;36mprint_figure\u001b[0;34m(self, filename, dpi, facecolor, edgecolor, orientation, format, bbox_inches, **kwargs)\u001b[0m\n\u001b[1;32m   2012\u001b[0m \u001b[0;34m\u001b[0m\u001b[0m\n\u001b[1;32m   2013\u001b[0m         \u001b[0;31m# get canvas object and print method for format\u001b[0m\u001b[0;34m\u001b[0m\u001b[0;34m\u001b[0m\u001b[0;34m\u001b[0m\u001b[0m\n\u001b[0;32m-> 2014\u001b[0;31m         \u001b[0mcanvas\u001b[0m \u001b[0;34m=\u001b[0m \u001b[0mself\u001b[0m\u001b[0;34m.\u001b[0m\u001b[0m_get_output_canvas\u001b[0m\u001b[0;34m(\u001b[0m\u001b[0mformat\u001b[0m\u001b[0;34m)\u001b[0m\u001b[0;34m\u001b[0m\u001b[0;34m\u001b[0m\u001b[0m\n\u001b[0m\u001b[1;32m   2015\u001b[0m         \u001b[0mprint_method\u001b[0m \u001b[0;34m=\u001b[0m \u001b[0mgetattr\u001b[0m\u001b[0;34m(\u001b[0m\u001b[0mcanvas\u001b[0m\u001b[0;34m,\u001b[0m \u001b[0;34m'print_%s'\u001b[0m \u001b[0;34m%\u001b[0m \u001b[0mformat\u001b[0m\u001b[0;34m)\u001b[0m\u001b[0;34m\u001b[0m\u001b[0;34m\u001b[0m\u001b[0m\n\u001b[1;32m   2016\u001b[0m \u001b[0;34m\u001b[0m\u001b[0m\n",
      "\u001b[0;32m~/.conda/envs/PycharmProjects/lib/python3.7/site-packages/matplotlib/backend_bases.py\u001b[0m in \u001b[0;36m_get_output_canvas\u001b[0;34m(self, fmt)\u001b[0m\n\u001b[1;32m   1954\u001b[0m         raise ValueError(\n\u001b[1;32m   1955\u001b[0m             \u001b[0;34m\"Format {!r} is not supported (supported formats: {})\"\u001b[0m\u001b[0;34m\u001b[0m\u001b[0;34m\u001b[0m\u001b[0m\n\u001b[0;32m-> 1956\u001b[0;31m             .format(fmt, \", \".join(sorted(self.get_supported_filetypes()))))\n\u001b[0m\u001b[1;32m   1957\u001b[0m \u001b[0;34m\u001b[0m\u001b[0m\n\u001b[1;32m   1958\u001b[0m     def print_figure(self, filename, dpi=None, facecolor=None, edgecolor=None,\n",
      "\u001b[0;31mValueError\u001b[0m: Format 'jpg' is not supported (supported formats: eps, pdf, pgf, png, ps, raw, rgba, svg, svgz)"
     ]
    },
    {
     "data": {
      "image/png": "[encoded data removed]",
      "text/plain": [
       "<Figure size 432x288 with 1 Axes>"
      ]
     },
     "metadata": {
      "needs_background": "light"
     },
     "output_type": "display_data"
    }
   ],
   "source": [
    "plt.figure()\n",
    "plt.plot(predict)\n",
    "plt.plot(Y_Val)\n",
    "\n",
    "plt.title('GE stock price prediction')\n",
    "plt.ylabel('Price (USD)')\n",
    "plt.xlabel('Days')\n",
    "plt.legend(['predict','Actual'], loc='upper left')\n",
    "\n",
    "plt.savefig(\"figure.jpg\")\n",
    "plt.show()"
   ]
  },
  {
   "cell_type": "code",
   "execution_count": null,
   "metadata": {},
   "outputs": [],
   "source": []
  },
  {
   "cell_type": "code",
   "execution_count": null,
   "metadata": {},
   "outputs": [],
   "source": []
  }
 ],
 "metadata": {
  "kernelspec": {
   "display_name": "Python 3",
   "language": "python",
   "name": "python3"
  },
  "language_info": {
   "codemirror_mode": {
    "name": "ipython",
    "version": 3
   },
   "file_extension": ".py",
   "mimetype": "text/x-python",
   "name": "python",
   "nbconvert_exporter": "python",
   "pygments_lexer": "ipython3",
   "version": "3.7.5"
  }
 },
 "nbformat": 4,
 "nbformat_minor": 2
}
